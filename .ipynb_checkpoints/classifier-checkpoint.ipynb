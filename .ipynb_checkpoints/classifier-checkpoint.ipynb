{
 "cells": [
  {
   "cell_type": "code",
   "execution_count": 2,
   "metadata": {
    "collapsed": false
   },
   "outputs": [],
   "source": [
    "import numpy as np\n",
    "import cv2\n",
    "import glob\n",
    "import pickle\n",
    "import time\n",
    "from sklearn.svm import LinearSVC\n",
    "from sklearn.preprocessing import StandardScaler\n",
    "from skimage.feature import hog\n",
    "from functions import *\n",
    "# NOTE: the next import is only valid for scikit-learn version <= 0.17\n",
    "# for scikit-learn >= 0.18 use:\n",
    "#from sklearn.model_selection import train_test_split\n",
    "from sklearn.cross_validation import train_test_split"
   ]
  },
  {
   "cell_type": "code",
   "execution_count": 4,
   "metadata": {
    "collapsed": false
   },
   "outputs": [
    {
     "data": {
      "text/plain": [
       "[8792, 8968]"
      ]
     },
     "execution_count": 4,
     "metadata": {},
     "output_type": "execute_result"
    }
   ],
   "source": [
    "# Training the classifier using Linear SVM\n",
    "\n",
    "# Read in cars and notcars\n",
    "#cars_train = []\n",
    "#notcars_train = []\n",
    "cars = []\n",
    "notcars =[]\n",
    "\n",
    "# cars\n",
    "images = glob.glob('dat/vehicles/**/*.png', recursive=True) # cars\n",
    "for image in images:\n",
    "    #cars_train.append(image)\n",
    "    cars.append(image)\n",
    "\n",
    "# non-cars\n",
    "images = glob.glob('dat/non-vehicles/**/*.png', recursive=True) # noncars\n",
    "for image in images:\n",
    "    #notcars_train.append(image)\n",
    "    notcars.append(image)\n",
    "\n",
    "\n",
    "# cars_test = []\n",
    "# notcars_test = []\n",
    "\n",
    "# # cars\n",
    "# images = glob.glob('vehicles/vehicles/GTI_Far/*.png') # cars\n",
    "# for image in images:\n",
    "#     cars_test.append(image)\n",
    "    \n",
    "# images = glob.glob('vehicles/vehicles/GTI_Left/*.png') # cars\n",
    "# for image in images:\n",
    "#     cars_test.append(image)\n",
    "\n",
    "# images = glob.glob('vehicles/vehicles/GTI_MiddleClose/*.png') # cars\n",
    "# for image in images:\n",
    "#     cars_test.append(image)\n",
    "\n",
    "# images = glob.glob('vehicles/vehicles/GTI_Right/*.png') # cars\n",
    "# for image in images:\n",
    "#     cars_test.append(image)\n",
    "\n",
    "# # non-cars\n",
    "# images = glob.glob('non-vehicles/non-vehicles/GTI/*.png') # noncars\n",
    "# for image in images:\n",
    "#     notcars_test.append(image)\n",
    "no_of_images = [len(cars), len(notcars)]\n",
    "no_of_images\n"
   ]
  },
  {
   "cell_type": "code",
   "execution_count": 7,
   "metadata": {
    "collapsed": true
   },
   "outputs": [],
   "source": [
    "color_space = 'HLS' # Can be RGB, HSV, LUV, HLS, YUV, YCrCb\n",
    "orient = 9  # HOG orientations\n",
    "pix_per_cell = 8 # HOG pixels per cell\n",
    "cell_per_block = 2 # HOG cells per block\n",
    "hog_channel = 'ALL' # Can be 0, 1, 2, or \"ALL\"\n",
    "spatial_size = (16, 16) # Spatial binning dimensions\n",
    "hist_bins = 16    # Number of histogram bins\n",
    "spatial_feat = True # Spatial features on or off\n",
    "hist_feat = True # Histogram features on or off\n",
    "hog_feat = True # HOG features on or off\n",
    "#y_start_stop = [None, None] # Min and max in y to search in slide_window()"
   ]
  },
  {
   "cell_type": "code",
   "execution_count": 8,
   "metadata": {
    "collapsed": false
   },
   "outputs": [
    {
     "name": "stdout",
     "output_type": "stream",
     "text": [
      "Feature vector length: 6108\n",
      "13.37 Seconds to train SVC...\n",
      "Test Accuracy of SVC =  0.9916\n"
     ]
    }
   ],
   "source": [
    "car_features = extract_features(cars, color_space=color_space, \n",
    "                        spatial_size=spatial_size, hist_bins=hist_bins, \n",
    "                        orient=orient, pix_per_cell=pix_per_cell, \n",
    "                        cell_per_block=cell_per_block, \n",
    "                        hog_channel=hog_channel, spatial_feat=spatial_feat, \n",
    "                        hist_feat=hist_feat, hog_feat=hog_feat)\n",
    "notcar_features = extract_features(notcars, color_space=color_space, \n",
    "                        spatial_size=spatial_size, hist_bins=hist_bins, \n",
    "                        orient=orient, pix_per_cell=pix_per_cell, \n",
    "                        cell_per_block=cell_per_block, \n",
    "                        hog_channel=hog_channel, spatial_feat=spatial_feat, \n",
    "                        hist_feat=hist_feat, hog_feat=hog_feat)\n",
    "\n",
    "# car_test_features = extract_features(cars_test, color_space=color_space, \n",
    "#                         spatial_size=spatial_size, hist_bins=hist_bins, \n",
    "#                         orient=orient, pix_per_cell=pix_per_cell, \n",
    "#                         cell_per_block=cell_per_block, \n",
    "#                         hog_channel=hog_channel, spatial_feat=spatial_feat, \n",
    "#                         hist_feat=hist_feat, hog_feat=hog_feat)\n",
    "# notcar_test_features = extract_features(notcars_test, color_space=color_space, \n",
    "#                         spatial_size=spatial_size, hist_bins=hist_bins, \n",
    "#                         orient=orient, pix_per_cell=pix_per_cell, \n",
    "#                         cell_per_block=cell_per_block, \n",
    "#                         hog_channel=hog_channel, spatial_feat=spatial_feat, \n",
    "#                         hist_feat=hist_feat, hog_feat=hog_feat)\n",
    "\n",
    "\n",
    "X = np.vstack((car_features, notcar_features)).astype(np.float64)\n",
    "#X_test = np.vstack((car_test_features, notcar_test_features)).astype(np.float64)\n",
    "# Fit a per-column scaler\n",
    "X_scaler = StandardScaler().fit(X)\n",
    "#X_scaler_test = StandardScaler().fit(X_test)\n",
    "# Apply the scaler to X\n",
    "scaled_X = X_scaler.transform(X)\n",
    "#scaled_X_test = X_scaler_test.transform(X_test)\n",
    "\n",
    "# Define the labels vector\n",
    "y = np.hstack((np.ones(len(car_features)), np.zeros(len(notcar_features))))\n",
    "#y_test = np.hstack((np.ones(len(car_test_features)), np.zeros(len(notcar_test_features))))\n",
    "\n",
    "\n",
    "# Split up data into randomized training and test sets\n",
    "rand_state = np.random.randint(0, 100)\n",
    "X_train, X_test, y_train, y_test = train_test_split(\n",
    "    scaled_X, y, test_size=0.2, random_state=rand_state)\n",
    "\n",
    "print('Feature vector length:', len(X_train[0]))\n",
    "# Use a linear SVC \n",
    "svc = LinearSVC()\n",
    "# Check the training time for the SVC\n",
    "t=time.time()\n",
    "svc.fit(X_train, y_train)\n",
    "t2 = time.time()\n",
    "print(round(t2-t, 2), 'Seconds to train SVC...')\n",
    "# Check the score of the SVC\n",
    "print('Test Accuracy of SVC = ', round(svc.score(X_test, y_test), 4))"
   ]
  },
  {
   "cell_type": "code",
   "execution_count": 10,
   "metadata": {
    "collapsed": false
   },
   "outputs": [],
   "source": [
    "# storing the classifier\n",
    "pickle.dump(svc, open(\"pickel_data/svc.pkl\", \"wb\"))\n",
    "pickle.dump(X_scaler, open(\"pickel_data/xscaler.pkl\", \"wb\"))"
   ]
  },
  {
   "cell_type": "code",
   "execution_count": null,
   "metadata": {
    "collapsed": true
   },
   "outputs": [],
   "source": []
  }
 ],
 "metadata": {
  "anaconda-cloud": {},
  "kernelspec": {
   "display_name": "Python [conda root]",
   "language": "python",
   "name": "conda-root-py"
  },
  "language_info": {
   "codemirror_mode": {
    "name": "ipython",
    "version": 3
   },
   "file_extension": ".py",
   "mimetype": "text/x-python",
   "name": "python",
   "nbconvert_exporter": "python",
   "pygments_lexer": "ipython3",
   "version": "3.5.2"
  }
 },
 "nbformat": 4,
 "nbformat_minor": 1
}
